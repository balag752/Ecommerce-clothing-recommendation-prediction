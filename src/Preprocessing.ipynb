{
 "cells": [
  {
   "cell_type": "code",
   "execution_count": 1,
   "metadata": {},
   "outputs": [],
   "source": [
    "import pandas as pd\n",
    "import spacy\n",
    "import re\n",
    "\n",
    "from spacy.tokens import Token\n",
    "from tqdm import tqdm"
   ]
  },
  {
   "cell_type": "code",
   "execution_count": 3,
   "metadata": {},
   "outputs": [],
   "source": [
    "df = pd.read_csv(\"..//data//Womens Clothing E-Commerce Reviews.csv\")\n",
    "# Removed index from dataframe\n",
    "df=df.drop(columns=[\"Unnamed: 0\"])"
   ]
  },
  {
   "cell_type": "code",
   "execution_count": 5,
   "metadata": {},
   "outputs": [],
   "source": [
    "nlp = spacy.load(\"en_core_web_sm\")\n",
    "\n",
    "def stop(doc):\n",
    "    return [token for token in doc if token.text.isalnum() and not token.is_stop]\n",
    "\n",
    "def lemmatize(doc):\n",
    "    return [token.lemma_.lower() if token.lemma_ != \"-PRON-\" else token.text.lower() for token in doc]\n",
    "\n",
    "def remove_line_breaks(doc):\n",
    "    return [token.replace(\"\\n\", \" \").replace(\"\\r\", \" \") for token in doc]\n",
    "\n",
    "nlp.add_pipe(stop)\n",
    "nlp.add_pipe(lemmatize)\n",
    "nlp.add_pipe(remove_line_breaks)"
   ]
  },
  {
   "cell_type": "code",
   "execution_count": 14,
   "metadata": {},
   "outputs": [
    {
     "name": "stderr",
     "output_type": "stream",
     "text": [
      "100%|██████████| 23486/23486 [04:03<00:00, 96.62it/s]  \n"
     ]
    }
   ],
   "source": [
    "docs =  [str(i) for i in df[\"Review Text\"].to_list()]\n",
    "processed_docs = []\n",
    "\n",
    "with tqdm(total=len(docs)) as bar:\n",
    "\n",
    "    for doc in nlp.pipe(docs):\n",
    "        \n",
    "            line = \" \".join(doc)\n",
    "            processed_docs.append(line)\n",
    "            bar.update(1)\n",
    "\n",
    "df[\"processed_Review_text\"] = processed_docs\n"
   ]
  },
  {
   "cell_type": "code",
   "execution_count": 21,
   "metadata": {},
   "outputs": [
    {
     "data": {
      "text/plain": [
       "['Beautifully made pants and on trend with the flared crop. so much cuter in person. love these!',\n",
       " \"I never would have given these pants a second look online, in person they are much cuter! the stripes are brighter and the fit more flattering. the crop has a cute flare which is right on trend. this brand has always run small for me, i am 5'8 about 140lbs and carry some chubbiness in the belly. i paired it with a collarless loose navy blazer\",\n",
       " 'These pants are even better in person. the only downside is that they need to be dry cleaned.',\n",
       " 'I ordered this 3 months ago, and it finally came off back order. a huge disappointment. the fit wasn&#39;t so much the issue for me. the quality of the wool is subpar. someone else mentioned a &quot;felted wool&quot;...i guess, is that what you call it?  it does literally feel like felt! super thin, itchy, doesn&#39;t drape very well, and feels cheap (made in china). i got it on sale, but still not worth what i paid. definitely going back.',\n",
       " 'This is such a neat dress. the color is great and the fabric is super soft. i am tall so the long length was an added bonus. it definitely needs something underneath since the front gaps. i am going to pair it with a funky tank top, necklaces and boots. super cute!!',\n",
       " \"Wouldn't have given them a second look but tried them on in store of a whim. love, love!!\",\n",
       " 'This is a comfortable skirt that can span seasons easily. while not the most exciting design, it is a good work skirt that can be paired with many tops.',\n",
       " 'Just ordered this in a small for me (5\\'6\", 135, size 4) and medium for my mom (5\\'3\", 130, size 8) and it is gorgeous - beautifully draped, all the weight/warmth i\\'ll need for houston fall and winter, looks polished snapped or unsnapped. age-appropriate for both my mom (60\\'s) and myself (30\\'s). will look amazing with skinny jeans or leggings. we ordered the gray which is true to the photos.',\n",
       " 'Super cute and comfy pull over. sizing is accurate. material has a little bit of stretch.',\n",
       " 'Great casual top with flare. looks cute with grey pilcro stet jeans. flattering with peplum in back. nice cut for shoulders and neckline.']"
      ]
     },
     "execution_count": 21,
     "metadata": {},
     "output_type": "execute_result"
    }
   ],
   "source": [
    "df[\"Review Text\"].tolist()[30:40]"
   ]
  },
  {
   "cell_type": "code",
   "execution_count": 22,
   "metadata": {},
   "outputs": [
    {
     "data": {
      "text/plain": [
       "['beautifully pant trend flared crop cuter person love',\n",
       " 'give pant second look online person cute stripe bright fit flattering crop cute flare right trend brand run small 140lbs carry chubbiness belly pair collarless loose navy blazer',\n",
       " 'pant well person downside need dry clean',\n",
       " 'order 3 month ago finally come order huge disappointment fit issue quality wool subpar mention guess literally feel like feel super thin itchy drape feel cheap china get sale worth pay definitely go',\n",
       " 'neat dress color great fabric super soft tall long length add bonus definitely need underneath gap go pair funky tank necklace boot super cute',\n",
       " 'give second look try store whim love love',\n",
       " 'comfortable skirt span season easily exciting design good work skirt pair top',\n",
       " 'order small 135 size 4 medium mom 130 size gorgeous beautifully drape weight warmth need houston fall winter look polished snap unsnapped age appropriate mom 60 30 look amazing skinny jean legging order gray true photo',\n",
       " 'super cute comfy pull sizing accurate material little bit stretch',\n",
       " 'great casual flare look cute grey pilcro stet jean flatter peplum nice cut shoulder neckline']"
      ]
     },
     "execution_count": 22,
     "metadata": {},
     "output_type": "execute_result"
    }
   ],
   "source": [
    "df[\"processed_Review_text\"].tolist()[30:40]"
   ]
  },
  {
   "cell_type": "code",
   "execution_count": 33,
   "metadata": {},
   "outputs": [],
   "source": [
    "# nlp = spacy.load(\"en_core_web_sm\")\n",
    "# doc = nlp('Great casual top with flare. looks cute with grey pilcro stet jeans. flattering with peplum in back. nice cut for shoulders bc neckline.')\n",
    "\n",
    "# for token in doc:\n",
    "#     print(token, token.lemma, token.lemma_)\n",
    "# # df[\"processed_Review_text\"].tolist()[40]"
   ]
  },
  {
   "cell_type": "code",
   "execution_count": 34,
   "metadata": {},
   "outputs": [
    {
     "name": "stdout",
     "output_type": "stream",
     "text": [
      "(23486, 11099)\n"
     ]
    }
   ],
   "source": [
    "from sklearn.feature_extraction.text import TfidfTransformer\n",
    "from sklearn.feature_extraction.text import TfidfVectorizer\n",
    "\n",
    "vectorizer = TfidfVectorizer()\n",
    "review_vectors = vectorizer.fit_transform(df[\"processed_Review_text\"])\n",
    "print(review_vectors.shape)"
   ]
  }
 ],
 "metadata": {
  "kernelspec": {
   "display_name": "Python 3",
   "language": "python",
   "name": "python3"
  },
  "language_info": {
   "codemirror_mode": {
    "name": "ipython",
    "version": 3
   },
   "file_extension": ".py",
   "mimetype": "text/x-python",
   "name": "python",
   "nbconvert_exporter": "python",
   "pygments_lexer": "ipython3",
   "version": "3.7.3"
  }
 },
 "nbformat": 4,
 "nbformat_minor": 2
}
