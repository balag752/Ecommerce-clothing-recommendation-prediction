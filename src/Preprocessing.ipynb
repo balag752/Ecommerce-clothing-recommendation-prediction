{
 "cells": [
  {
   "cell_type": "markdown",
   "metadata": {},
   "source": [
    "# Text Preprocessing"
   ]
  },
  {
   "cell_type": "code",
   "execution_count": 2,
   "metadata": {},
   "outputs": [],
   "source": [
    "import datetime\n",
    "\n",
    "import pandas as pd\n",
    "import spacy\n",
    "import re\n",
    "import string\n",
    "\n",
    "from spacy.tokens import Token\n",
    "from tqdm import tqdm\n",
    "\n",
    "from textblob import TextBlob\n",
    "from textblob import Word\n",
    "\n",
    "import html"
   ]
  },
  {
   "cell_type": "code",
   "execution_count": 5,
   "metadata": {},
   "outputs": [],
   "source": [
    "df = pd.read_csv(\"..//data//Womens Clothing E-Commerce Reviews.csv\")\n",
    "# Removed index from dataframe\n",
    "df=df.drop(columns=[\"Unnamed: 0\"])"
   ]
  },
  {
   "cell_type": "markdown",
   "metadata": {},
   "source": [
    "## Outlier handling for Age Feature"
   ]
  },
  {
   "cell_type": "code",
   "execution_count": 9,
   "metadata": {},
   "outputs": [
    {
     "name": "stdout",
     "output_type": "stream",
     "text": [
      "0.995 percentile of age is 79.0\n"
     ]
    },
    {
     "name": "stderr",
     "output_type": "stream",
     "text": [
      "C:\\Users\\Dell\\Anaconda3\\lib\\site-packages\\ipykernel_launcher.py:5: SettingWithCopyWarning: \n",
      "A value is trying to be set on a copy of a slice from a DataFrame\n",
      "\n",
      "See the caveats in the documentation: http://pandas.pydata.org/pandas-docs/stable/indexing.html#indexing-view-versus-copy\n",
      "  \"\"\"\n"
     ]
    },
    {
     "data": {
      "image/png": "[encoded data removed]",
      "text/plain": [
       "<Figure size 432x288 with 1 Axes>"
      ]
     },
     "metadata": {
      "needs_background": "light"
     },
     "output_type": "display_data"
    }
   ],
   "source": [
    "## Setting upper bound to 90 percentile data to avoid outlier in age.\n",
    "thersold=.995\n",
    "print(str(thersold)+\" percentile of age is \"+str(df[\"Age\"].quantile(thersold)))\n",
    "\n",
    "df[\"Age\"][df[\"Age\"] > df[\"Age\"].quantile(thersold)]=df[\"Age\"].quantile(thersold)\n",
    "\n",
    "# Data are well distributed between Ages.\n",
    "df[\"Age\"].plot(kind=\"box\");"
   ]
  },
  {
   "cell_type": "markdown",
   "metadata": {},
   "source": [
    "## Removing Empty reviews"
   ]
  },
  {
   "cell_type": "code",
   "execution_count": 64,
   "metadata": {},
   "outputs": [],
   "source": [
    "## Discarding a empty reviews records\n",
    "\n",
    "df=df[((df[\"Review Text\"].isna()==False) & (df[\"Review Text\"]!=\"\"))]"
   ]
  },
  {
   "cell_type": "markdown",
   "metadata": {},
   "source": [
    "## Sample reviews"
   ]
  },
  {
   "cell_type": "code",
   "execution_count": 65,
   "metadata": {},
   "outputs": [
    {
     "data": {
      "text/plain": [
       "['Beautifully made pants and on trend with the flared crop. so much cuter in person. love these!',\n",
       " \"I never would have given these pants a second look online, in person they are much cuter! the stripes are brighter and the fit more flattering. the crop has a cute flare which is right on trend. this brand has always run small for me, i am 5'8 about 140lbs and carry some chubbiness in the belly. i paired it with a collarless loose navy blazer\",\n",
       " 'These pants are even better in person. the only downside is that they need to be dry cleaned.',\n",
       " 'I ordered this 3 months ago, and it finally came off back order. a huge disappointment. the fit wasn&#39;t so much the issue for me. the quality of the wool is subpar. someone else mentioned a &quot;felted wool&quot;...i guess, is that what you call it?  it does literally feel like felt! super thin, itchy, doesn&#39;t drape very well, and feels cheap (made in china). i got it on sale, but still not worth what i paid. definitely going back.',\n",
       " 'This is such a neat dress. the color is great and the fabric is super soft. i am tall so the long length was an added bonus. it definitely needs something underneath since the front gaps. i am going to pair it with a funky tank top, necklaces and boots. super cute!!']"
      ]
     },
     "execution_count": 65,
     "metadata": {},
     "output_type": "execute_result"
    }
   ],
   "source": [
    "df['Review Text'].head(35).tail(5).tolist()"
   ]
  },
  {
   "cell_type": "markdown",
   "metadata": {},
   "source": [
    "## Formatting the HTML escape values"
   ]
  },
  {
   "cell_type": "code",
   "execution_count": 66,
   "metadata": {},
   "outputs": [],
   "source": [
    "df[\"Review Text\"]=df[\"Review Text\"].apply(str).apply(html.unescape)"
   ]
  },
  {
   "cell_type": "markdown",
   "metadata": {},
   "source": [
    "## Sample reviews (After Reformatting)"
   ]
  },
  {
   "cell_type": "code",
   "execution_count": 67,
   "metadata": {},
   "outputs": [
    {
     "data": {
      "text/plain": [
       "['Beautifully made pants and on trend with the flared crop. so much cuter in person. love these!',\n",
       " \"I never would have given these pants a second look online, in person they are much cuter! the stripes are brighter and the fit more flattering. the crop has a cute flare which is right on trend. this brand has always run small for me, i am 5'8 about 140lbs and carry some chubbiness in the belly. i paired it with a collarless loose navy blazer\",\n",
       " 'These pants are even better in person. the only downside is that they need to be dry cleaned.',\n",
       " 'I ordered this 3 months ago, and it finally came off back order. a huge disappointment. the fit wasn\\'t so much the issue for me. the quality of the wool is subpar. someone else mentioned a \"felted wool\"...i guess, is that what you call it?  it does literally feel like felt! super thin, itchy, doesn\\'t drape very well, and feels cheap (made in china). i got it on sale, but still not worth what i paid. definitely going back.',\n",
       " 'This is such a neat dress. the color is great and the fabric is super soft. i am tall so the long length was an added bonus. it definitely needs something underneath since the front gaps. i am going to pair it with a funky tank top, necklaces and boots. super cute!!']"
      ]
     },
     "execution_count": 67,
     "metadata": {},
     "output_type": "execute_result"
    }
   ],
   "source": [
    "df['Review Text'].head(35).tail(5).tolist()"
   ]
  },
  {
   "cell_type": "markdown",
   "metadata": {},
   "source": [
    "## Text preprocessing\n",
    "\n",
    "- Remove the digits, stopwords, punctuation and alpha numeric words\n",
    "- Lemmatizing the words \n",
    "- removing new line in review"
   ]
  },
  {
   "cell_type": "code",
   "execution_count": 68,
   "metadata": {},
   "outputs": [],
   "source": [
    "nlp = spacy.load(\"en_core_web_sm\")\n",
    "\n",
    "def remove_spell_errors(doc):\n",
    "    bdoc = TextBlob(str(doc))\n",
    "    ## Correcting the words\n",
    "    return str(bdoc.correct())\n",
    "\n",
    "def stop(doc):\n",
    "    return [token for token in doc if not token.is_digit and not token.is_stop and ( token.text.isalpha() or not token.text.isalnum())]\n",
    "\n",
    "def lemmatize(doc):\n",
    "    return [token.lemma_.lower() if token.lemma_ != \"-PRON-\" else token.text.lower() for token in doc]\n",
    "\n",
    "def remove_line_breaks(doc):\n",
    "    return [token.replace(\"\\n\", \" \").replace(\"\\r\", \" \") for token in doc]\n",
    "\n",
    "nlp.add_pipe(stop)\n",
    "nlp.add_pipe(lemmatize)\n",
    "nlp.add_pipe(remove_line_breaks)"
   ]
  },
  {
   "cell_type": "code",
   "execution_count": 69,
   "metadata": {},
   "outputs": [
    {
     "name": "stdout",
     "output_type": "stream",
     "text": [
      "2019-09-08 18:39:07.845811 : Started preprocessing\n"
     ]
    },
    {
     "name": "stderr",
     "output_type": "stream",
     "text": [
      "100%|████████████████████████████████████| 22641/22641 [28:22<00:00, 13.30it/s]\n"
     ]
    },
    {
     "name": "stdout",
     "output_type": "stream",
     "text": [
      "2019-09-08 19:07:30.780603 : Preprocessing completed\n"
     ]
    }
   ],
   "source": [
    "print(str(datetime.datetime.now())+\" : Started preprocessing\")\n",
    "#docs = df[\"Review Text\"].apply(remove_spell_errors).to_list()\n",
    "docs = df[\"Review Text\"].apply(str).to_list()\n",
    "processed_docs = []\n",
    "\n",
    "with tqdm(total=len(docs)) as bar:\n",
    "    for doc in nlp.pipe(docs):\n",
    "            line = \" \".join(doc)\n",
    "            ## Removing the punctuation\n",
    "            line=line.translate(str.maketrans('','',string.punctuation))\n",
    "            ## Removing numbers \n",
    "            line=\" \".join(list(filter(lambda w : not w.isdigit(), line.split())))\n",
    "            processed_docs.append(line)\n",
    "            bar.update(1)\n",
    "\n",
    "df[\"processed_Review_text\"] = processed_docs\n",
    "print(str(datetime.datetime.now())+\" : Preprocessing completed\")"
   ]
  },
  {
   "cell_type": "markdown",
   "metadata": {},
   "source": [
    "## Experimented with Spell correction \n",
    "\n",
    "We tried to correct the wrong spelling words. But most of the review are having casual words which leads to wrong spell correction. So we did not implemented "
   ]
  },
  {
   "cell_type": "code",
   "execution_count": 70,
   "metadata": {},
   "outputs": [
    {
     "data": {
      "text/plain": [
       "[('mon', 0.5094339622641509),\n",
       " ('mob', 0.24528301886792453),\n",
       " ('mot', 0.0660377358490566),\n",
       " ('mop', 0.04716981132075472),\n",
       " ('tom', 0.03773584905660377),\n",
       " ('com', 0.03773584905660377),\n",
       " ('nom', 0.018867924528301886),\n",
       " ('om', 0.009433962264150943),\n",
       " ('mo', 0.009433962264150943),\n",
       " ('mmm', 0.009433962264150943),\n",
       " ('mm', 0.009433962264150943)]"
      ]
     },
     "execution_count": 70,
     "metadata": {},
     "output_type": "execute_result"
    }
   ],
   "source": [
    "TextBlob(\"mom\").words[0].spellcheck()"
   ]
  },
  {
   "cell_type": "markdown",
   "metadata": {},
   "source": [
    "## After Preprocessed Output"
   ]
  },
  {
   "cell_type": "code",
   "execution_count": 71,
   "metadata": {},
   "outputs": [
    {
     "data": {
      "text/plain": [
       "[\"I don't normally try on tops like this but i liked the product shot so much that i wanted to repeat the outfit. i grabbed a large because it wasa shorter blouse. it was huge. i sized down to the medium and it was still loose but if i were to purchase, it would be that size. the red against the blue was very pretty but i didn't know if felt like a little kid in a uniform. the back did not lie flat, not sure if it was because of my 36d chest or because of the shirt design. it is well made and i th\",\n",
       " 'I love this ankle length pant. it is so comfortable wear it with a tunic or tee. i can wear this for 3 seasons!',\n",
       " 'I think this is the first time i\\'ve successfully purchased pants online. i normally have to try a bunch of styles and sizes on before i find the right ones. i gave it a shot with these, and bingo! they are great! they are a bit longer on me than on the model, because i am 5\\'3\" and did not order a petite. i still like how they look, hitting just above my ankle. just the right blend of conservative and cool for lecturing in front of college undergrads.',\n",
       " 'Such cute, soft and comfortable shorts. can be worn as night wear or out and about.',\n",
       " \"I saw these in an email and immediately went to the web to look at them. they fit well and have nice slim look. the bottom of the legs seems to fit a little slimmer on me than in the picture, but they aren't too tight.\"]"
      ]
     },
     "execution_count": 71,
     "metadata": {},
     "output_type": "execute_result"
    }
   ],
   "source": [
    "df[\"Review Text\"].tolist()[630:635]"
   ]
  },
  {
   "cell_type": "code",
   "execution_count": 72,
   "metadata": {},
   "outputs": [
    {
     "data": {
      "text/plain": [
       "['normally try top like like product shoot want repeat outfit grab large wasa short blouse huge size medium loose purchase size red blue pretty know feel like little kid uniform lie flat sure chest shirt design th',\n",
       " 'love ankle length pant comfortable wear tunic tee wear season',\n",
       " 'think time successfully purchase pant online normally try bunch style size find right one give shot bingo great bit longer model order petite like look hit ankle right blend conservative cool lecture college undergrad',\n",
       " 'cute soft comfortable short wear night wear',\n",
       " 'see email immediately go web look fit nice slim look leg fit little slimmer picture tight']"
      ]
     },
     "execution_count": 72,
     "metadata": {},
     "output_type": "execute_result"
    }
   ],
   "source": [
    "df[\"processed_Review_text\"].tolist()[630:635]"
   ]
  },
  {
   "cell_type": "code",
   "execution_count": 73,
   "metadata": {},
   "outputs": [],
   "source": [
    "df.to_csv(\"..//data//Womens Clothing E-Commerce Reviews PreProcessed.csv\", index=False)"
   ]
  }
 ],
 "metadata": {
  "kernelspec": {
   "display_name": "Python 3",
   "language": "python",
   "name": "python3"
  },
  "language_info": {
   "codemirror_mode": {
    "name": "ipython",
    "version": 3
   },
   "file_extension": ".py",
   "mimetype": "text/x-python",
   "name": "python",
   "nbconvert_exporter": "python",
   "pygments_lexer": "ipython3",
   "version": "3.7.3"
  }
 },
 "nbformat": 4,
 "nbformat_minor": 2
}
