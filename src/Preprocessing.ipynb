{
 "cells": [
  {
   "cell_type": "code",
   "execution_count": 1,
   "metadata": {},
   "outputs": [],
   "source": [
    "import pandas as pd\n",
    "import spacy\n",
    "import re\n",
    "\n",
    "from spacy.tokens import Token\n",
    "from tqdm import tqdm\n",
    "\n",
    "# from sklearn.feature_extraction.text import TfidfTransformer\n",
    "from sklearn.feature_extraction.text import TfidfVectorizer"
   ]
  },
  {
   "cell_type": "code",
   "execution_count": 2,
   "metadata": {},
   "outputs": [],
   "source": [
    "df = pd.read_csv(\"..//data//Womens Clothing E-Commerce Reviews.csv\")\n",
    "# Removed index from dataframe\n",
    "df=df.drop(columns=[\"Unnamed: 0\"])"
   ]
  },
  {
   "cell_type": "code",
   "execution_count": 3,
   "metadata": {},
   "outputs": [],
   "source": [
    "def renames(feature, values):\n",
    "    Dict_cols={}\n",
    "    for value in values:\n",
    "        Dict_cols[value]=feature+value\n",
    "    return Dict_cols"
   ]
  },
  {
   "cell_type": "code",
   "execution_count": 16,
   "metadata": {},
   "outputs": [
    {
     "data": {
      "text/plain": [
       "False    22641\n",
       "True       845\n",
       "Name: Review Text, dtype: int64"
      ]
     },
     "execution_count": 16,
     "metadata": {},
     "output_type": "execute_result"
    }
   ],
   "source": [
    "pd.isnull(df['Review Text']).value_counts()"
   ]
  },
  {
   "cell_type": "code",
   "execution_count": 17,
   "metadata": {},
   "outputs": [
    {
     "data": {
      "text/plain": [
       "False    19676\n",
       "True      3810\n",
       "Name: Title, dtype: int64"
      ]
     },
     "execution_count": 17,
     "metadata": {},
     "output_type": "execute_result"
    }
   ],
   "source": [
    "pd.isnull(df['Title']).value_counts()"
   ]
  },
  {
   "cell_type": "code",
   "execution_count": 4,
   "metadata": {},
   "outputs": [],
   "source": [
    "column_name='Division Name'\n",
    "dummies= pd.get_dummies(df[column_name])\n",
    "Encoded_Data=pd.concat([df,dummies], axis=1,ignore_index=False)\n",
    "Encoded_Data=Encoded_Data.rename(index=str, columns=renames(column_name+'_',dummies.columns.tolist()))\n",
    "\n",
    "column_name='Department Name'\n",
    "dummies= pd.get_dummies(Encoded_Data[column_name])\n",
    "Encoded_Data=pd.concat([Encoded_Data,dummies], axis=1,ignore_index=False)\n",
    "Encoded_Data=Encoded_Data.rename(index=str, columns=renames(column_name+'_',dummies.columns.tolist()))\n",
    "\n",
    "column_name='Class Name'\n",
    "dummies= pd.get_dummies(Encoded_Data[column_name])\n",
    "Encoded_Data=pd.concat([Encoded_Data,dummies], axis=1,ignore_index=False)\n",
    "Encoded_Data=Encoded_Data.rename(index=str, columns=renames(column_name+'_',dummies.columns.tolist()))"
   ]
  },
  {
   "cell_type": "code",
   "execution_count": 5,
   "metadata": {},
   "outputs": [
    {
     "data": {
      "text/plain": [
       "Index(['Clothing ID', 'Age', 'Title', 'Review Text', 'Rating',\n",
       "       'Recommended IND', 'Positive Feedback Count', 'Division Name',\n",
       "       'Department Name', 'Class Name', 'Division Name_General',\n",
       "       'Division Name_General Petite', 'Division Name_Initmates',\n",
       "       'Department Name_Bottoms', 'Department Name_Dresses',\n",
       "       'Department Name_Intimate', 'Department Name_Jackets',\n",
       "       'Department Name_Tops', 'Department Name_Trend', 'Class Name_Blouses',\n",
       "       'Class Name_Casual bottoms', 'Class Name_Chemises',\n",
       "       'Class Name_Dresses', 'Class Name_Fine gauge', 'Class Name_Intimates',\n",
       "       'Class Name_Jackets', 'Class Name_Jeans', 'Class Name_Knits',\n",
       "       'Class Name_Layering', 'Class Name_Legwear', 'Class Name_Lounge',\n",
       "       'Class Name_Outerwear', 'Class Name_Pants', 'Class Name_Shorts',\n",
       "       'Class Name_Skirts', 'Class Name_Sleep', 'Class Name_Sweaters',\n",
       "       'Class Name_Swim', 'Class Name_Trend'],\n",
       "      dtype='object')"
      ]
     },
     "execution_count": 5,
     "metadata": {},
     "output_type": "execute_result"
    }
   ],
   "source": [
    "Encoded_Data.columns"
   ]
  },
  {
   "cell_type": "code",
   "execution_count": 6,
   "metadata": {},
   "outputs": [],
   "source": [
    "nlp = spacy.load(\"en_core_web_sm\")\n",
    "\n",
    "def stop(doc):\n",
    "    #return [token for token in doc if not token.is_punct and not token.text.isalnum() and not token.is_digit and not token.is_stop]\n",
    "    return [token for token in doc if token.text.isalnum() and not token.is_digit and not token.is_stop]\n",
    "\n",
    "def lemmatize(doc):\n",
    "    return [token.lemma_.lower() if token.lemma_ != \"-PRON-\" else token.text.lower() for token in doc]\n",
    "\n",
    "def remove_line_breaks(doc):\n",
    "    return [token.replace(\"\\n\", \" \").replace(\"\\r\", \" \") for token in doc]\n",
    "\n",
    "nlp.add_pipe(stop)\n",
    "nlp.add_pipe(lemmatize)\n",
    "nlp.add_pipe(remove_line_breaks)"
   ]
  },
  {
   "cell_type": "code",
   "execution_count": 7,
   "metadata": {},
   "outputs": [
    {
     "name": "stderr",
     "output_type": "stream",
     "text": [
      "100%|██████████| 23486/23486 [04:40<00:00, 83.63it/s]  \n"
     ]
    }
   ],
   "source": [
    "docs =  [str(i) for i in Encoded_Data[\"Review Text\"].to_list()]\n",
    "processed_docs = []\n",
    "\n",
    "with tqdm(total=len(docs)) as bar:\n",
    "    for doc in nlp.pipe(docs):\n",
    "            line = \" \".join(doc)\n",
    "            processed_docs.append(line)\n",
    "            bar.update(1)\n",
    "\n",
    "df[\"processed_Review_text\"] = processed_docs"
   ]
  },
  {
   "cell_type": "code",
   "execution_count": 8,
   "metadata": {},
   "outputs": [
    {
     "data": {
      "text/plain": [
       "['Beautifully made pants and on trend with the flared crop. so much cuter in person. love these!',\n",
       " \"I never would have given these pants a second look online, in person they are much cuter! the stripes are brighter and the fit more flattering. the crop has a cute flare which is right on trend. this brand has always run small for me, i am 5'8 about 140lbs and carry some chubbiness in the belly. i paired it with a collarless loose navy blazer\",\n",
       " 'These pants are even better in person. the only downside is that they need to be dry cleaned.',\n",
       " 'I ordered this 3 months ago, and it finally came off back order. a huge disappointment. the fit wasn&#39;t so much the issue for me. the quality of the wool is subpar. someone else mentioned a &quot;felted wool&quot;...i guess, is that what you call it?  it does literally feel like felt! super thin, itchy, doesn&#39;t drape very well, and feels cheap (made in china). i got it on sale, but still not worth what i paid. definitely going back.',\n",
       " 'This is such a neat dress. the color is great and the fabric is super soft. i am tall so the long length was an added bonus. it definitely needs something underneath since the front gaps. i am going to pair it with a funky tank top, necklaces and boots. super cute!!',\n",
       " \"Wouldn't have given them a second look but tried them on in store of a whim. love, love!!\",\n",
       " 'This is a comfortable skirt that can span seasons easily. while not the most exciting design, it is a good work skirt that can be paired with many tops.',\n",
       " 'Just ordered this in a small for me (5\\'6\", 135, size 4) and medium for my mom (5\\'3\", 130, size 8) and it is gorgeous - beautifully draped, all the weight/warmth i\\'ll need for houston fall and winter, looks polished snapped or unsnapped. age-appropriate for both my mom (60\\'s) and myself (30\\'s). will look amazing with skinny jeans or leggings. we ordered the gray which is true to the photos.',\n",
       " 'Super cute and comfy pull over. sizing is accurate. material has a little bit of stretch.',\n",
       " 'Great casual top with flare. looks cute with grey pilcro stet jeans. flattering with peplum in back. nice cut for shoulders and neckline.']"
      ]
     },
     "execution_count": 8,
     "metadata": {},
     "output_type": "execute_result"
    }
   ],
   "source": [
    "df[\"Review Text\"].tolist()[30:40]"
   ]
  },
  {
   "cell_type": "code",
   "execution_count": 9,
   "metadata": {},
   "outputs": [
    {
     "data": {
      "text/plain": [
       "['beautifully pant trend flared crop cuter person love',\n",
       " 'give pant second look online person cut stripe bright fit flattering crop cute flare right trend brand run small 140lbs carry chubbiness belly pair collarless loose navy blazer',\n",
       " 'pant well person downside need dry clean',\n",
       " 'order month ago finally come order huge disappointment fit issue quality wool subpar mention guess literally feel like feel super thin itchy drape feel cheap china get sale worth pay definitely go',\n",
       " 'neat dress color great fabric super soft tall long length add bonus definitely need underneath gap go pair funky tank necklace boot super cute',\n",
       " 'give second look try store whim love love',\n",
       " 'comfortable skirt span season easily exciting design good work skirt pair top',\n",
       " 'order small size medium mom size gorgeous beautifully drape weight warmth need houston fall winter look polished snap unsnapped age appropriate mom look amazing skinny jean legging order gray true photo',\n",
       " 'super cute comfy pull sizing accurate material little bit stretch',\n",
       " 'great casual flare look cute grey pilcro stet jean flatter peplum nice cut shoulder neckline']"
      ]
     },
     "execution_count": 9,
     "metadata": {},
     "output_type": "execute_result"
    }
   ],
   "source": [
    "df[\"processed_Review_text\"].tolist()[30:40]"
   ]
  },
  {
   "cell_type": "code",
   "execution_count": 10,
   "metadata": {},
   "outputs": [],
   "source": [
    "vectorizer = TfidfVectorizer()\n",
    "review_vectors = vectorizer.fit_transform(df[\"processed_Review_text\"])\n",
    "features_df = pd.DataFrame(review_vectors.toarray(), columns = vectorizer.get_feature_names())"
   ]
  },
  {
   "cell_type": "code",
   "execution_count": 21,
   "metadata": {},
   "outputs": [],
   "source": [
    "Prep_data=pd.concat([Encoded_Data,features_df], axis=1,ignore_index=False)\n",
    "Prep_data=Prep_data.drop(columns=['Clothing ID','Title','Review Text','Division Name', 'Department Name', 'Class Name'])"
   ]
  },
  {
   "cell_type": "code",
   "execution_count": 32,
   "metadata": {},
   "outputs": [
    {
     "data": {
      "text/plain": [
       "['00p',\n",
       " '03dd',\n",
       " '0dd',\n",
       " '0p',\n",
       " '0petite',\n",
       " '0r',\n",
       " '0verall',\n",
       " '0xs',\n",
       " '10',\n",
       " '100lbs',\n",
       " '102lbs',\n",
       " '103lbs',\n",
       " '104lbs',\n",
       " '105lbs',\n",
       " '106lbs',\n",
       " '107lbs',\n",
       " '107pound',\n",
       " '108lbs',\n",
       " '109lbs',\n",
       " '10l',\n",
       " '10lbs',\n",
       " '10mths',\n",
       " '10p',\n",
       " '10th',\n",
       " '10x',\n",
       " '110lbs',\n",
       " '111lbs',\n",
       " '112lbs',\n",
       " '112llbs',\n",
       " '113lbs',\n",
       " '114lbs',\n",
       " '115ish',\n",
       " '115lbs',\n",
       " '115llb',\n",
       " '116bs',\n",
       " '116ibs',\n",
       " '116lbs',\n",
       " '117bl',\n",
       " '117lbs',\n",
       " '118lbs',\n",
       " '11and',\n",
       " '11inches',\n",
       " '120lbs',\n",
       " '122lbs',\n",
       " '123lbs',\n",
       " '123lbssize',\n",
       " '124lbs',\n",
       " '125b',\n",
       " '125ibs',\n",
       " '125ish',\n",
       " '125lbs',\n",
       " '126lbs',\n",
       " '127lbs',\n",
       " '128b',\n",
       " '128lbs',\n",
       " '129lbs',\n",
       " '12p',\n",
       " '12th',\n",
       " '130b',\n",
       " '130ibs',\n",
       " '130l',\n",
       " '130lbs',\n",
       " '130pounds',\n",
       " '132lbs',\n",
       " '133lbs',\n",
       " '134b',\n",
       " '134lbs',\n",
       " '135lbs',\n",
       " '136lbs',\n",
       " '137lbs',\n",
       " '138lbs',\n",
       " '13th',\n",
       " '14',\n",
       " '140b',\n",
       " '140ish',\n",
       " '140lbs',\n",
       " '142lbs',\n",
       " '144lbs',\n",
       " '145lbs',\n",
       " '146lbs',\n",
       " '148lbs',\n",
       " '149lbs',\n",
       " '14p',\n",
       " '150lbs',\n",
       " '154lbs',\n",
       " '155lbs',\n",
       " '16',\n",
       " '160lbs',\n",
       " '165lbs',\n",
       " '170lbs',\n",
       " '172lbs',\n",
       " '175lbs',\n",
       " '180lbs',\n",
       " '183lbs',\n",
       " '18th',\n",
       " '190lbs',\n",
       " '1920s',\n",
       " '1940s',\n",
       " '1950',\n",
       " '1950s',\n",
       " '195lbs',\n",
       " '1960',\n",
       " '1960s',\n",
       " '1970',\n",
       " '1980',\n",
       " '1980s',\n",
       " '1990',\n",
       " '1st',\n",
       " '1x',\n",
       " '20',\n",
       " '2000s',\n",
       " '20lb',\n",
       " '20th',\n",
       " '20x',\n",
       " '220lbs',\n",
       " '230lbs',\n",
       " '23b',\n",
       " '24',\n",
       " '24p',\n",
       " '24th',\n",
       " '25',\n",
       " '25p',\n",
       " '25petite',\n",
       " '25th',\n",
       " '26',\n",
       " '26p',\n",
       " '26r',\n",
       " '26tall',\n",
       " '27',\n",
       " '27inches',\n",
       " '27p',\n",
       " '27r',\n",
       " '27tall',\n",
       " '28',\n",
       " '28dd',\n",
       " '28l',\n",
       " '28p',\n",
       " '28r',\n",
       " '29',\n",
       " '29p',\n",
       " '2fit',\n",
       " '2inches',\n",
       " '2nd',\n",
       " '2p',\n",
       " '2petite',\n",
       " '2r',\n",
       " '2regular',\n",
       " '2s',\n",
       " '2x',\n",
       " '30',\n",
       " '30aa',\n",
       " '30b',\n",
       " '30d',\n",
       " '30dd',\n",
       " '30e',\n",
       " '30f',\n",
       " '30gg',\n",
       " '30inch',\n",
       " '30lb',\n",
       " '30p',\n",
       " '30percent',\n",
       " '30ss',\n",
       " '30th',\n",
       " '31p',\n",
       " '31st',\n",
       " '32',\n",
       " '32a',\n",
       " '32b',\n",
       " '32c',\n",
       " '32d',\n",
       " '32dd',\n",
       " '32ddd',\n",
       " '32e',\n",
       " '32f',\n",
       " '32h',\n",
       " '32nd',\n",
       " '32p',\n",
       " '33a',\n",
       " '33d',\n",
       " '34a',\n",
       " '34aa',\n",
       " '34b',\n",
       " '34c',\n",
       " '34d',\n",
       " '34dd',\n",
       " '34ddd',\n",
       " '34dddd',\n",
       " '34ds',\n",
       " '34f',\n",
       " '34ff',\n",
       " '35a',\n",
       " '35ab',\n",
       " '35c',\n",
       " '35x27x36',\n",
       " '35x28x39',\n",
       " '36a',\n",
       " '36aa',\n",
       " '36b',\n",
       " '36c',\n",
       " '36d',\n",
       " '36dd',\n",
       " '36ddd',\n",
       " '36dddd',\n",
       " '36dds',\n",
       " '36e',\n",
       " '36h',\n",
       " '36j',\n",
       " '37ish',\n",
       " '38b',\n",
       " '38c',\n",
       " '38d',\n",
       " '38dd',\n",
       " '38dds',\n",
       " '38f',\n",
       " '38inch',\n",
       " '38ish',\n",
       " '39ish',\n",
       " '3c',\n",
       " '3d',\n",
       " '3hr',\n",
       " '3inch',\n",
       " '3rd',\n",
       " '3was',\n",
       " '3x',\n",
       " '3xl',\n",
       " '3xs',\n",
       " '3xxxl',\n",
       " '40',\n",
       " '40d',\n",
       " '40dd',\n",
       " '40s',\n",
       " '40something',\n",
       " '40th',\n",
       " '40yo',\n",
       " '42dd',\n",
       " '4d',\n",
       " '4fits',\n",
       " '4inches',\n",
       " '4l',\n",
       " '4p',\n",
       " '4petite',\n",
       " '4r',\n",
       " '4th',\n",
       " '4yrs',\n",
       " '50',\n",
       " '50th',\n",
       " '5ft2',\n",
       " '5ft3',\n",
       " '5ft4',\n",
       " '5ft7',\n",
       " '5ft8inches',\n",
       " '5lb',\n",
       " '5lbs',\n",
       " '5mo',\n",
       " '5star',\n",
       " '5th',\n",
       " '60',\n",
       " '60th',\n",
       " '6inches',\n",
       " '6p',\n",
       " '6petite',\n",
       " '6r',\n",
       " '6s',\n",
       " '6th',\n",
       " '70',\n",
       " '70s',\n",
       " '7month',\n",
       " '80',\n",
       " '80f',\n",
       " '8p',\n",
       " '8petite',\n",
       " '8s',\n",
       " '8yo',\n",
       " '90',\n",
       " '92lb',\n",
       " '95lbs',\n",
       " '98lbs',\n",
       " '9between',\n",
       " '9inches',\n",
       " '9lower',\n",
       " 'a0',\n",
       " 'a32',\n",
       " 'a34b',\n",
       " 'a9dn',\n",
       " 'aa']"
      ]
     },
     "execution_count": 32,
     "metadata": {},
     "output_type": "execute_result"
    }
   ],
   "source": [
    "Prep_data.columns.tolist()[33:318]"
   ]
  },
  {
   "cell_type": "code",
   "execution_count": null,
   "metadata": {},
   "outputs": [],
   "source": []
  }
 ],
 "metadata": {
  "kernelspec": {
   "display_name": "Python 3",
   "language": "python",
   "name": "python3"
  },
  "language_info": {
   "codemirror_mode": {
    "name": "ipython",
    "version": 3
   },
   "file_extension": ".py",
   "mimetype": "text/x-python",
   "name": "python",
   "nbconvert_exporter": "python",
   "pygments_lexer": "ipython3",
   "version": "3.7.3"
  }
 },
 "nbformat": 4,
 "nbformat_minor": 2
}
