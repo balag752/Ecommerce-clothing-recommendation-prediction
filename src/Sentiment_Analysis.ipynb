{
 "cells": [
  {
   "cell_type": "code",
   "execution_count": 181,
   "metadata": {},
   "outputs": [],
   "source": [
    "import datetime\n",
    "\n",
    "import pandas as pd\n",
    "import spacy\n",
    "import re\n",
    "import string\n",
    "\n",
    "from textblob import TextBlob\n",
    "from textblob import Word\n",
    "\n",
    "from textblob import Blobber\n",
    "from textblob.sentiments import NaiveBayesAnalyzer\n",
    "from textblob.sentiments import PatternAnalyzer\n",
    "\n",
    "from sklearn.metrics import confusion_matrix\n",
    "from sklearn.metrics import accuracy_score\n",
    "\n",
    "from sklearn.preprocessing import StandardScaler"
   ]
  },
  {
   "cell_type": "code",
   "execution_count": 11,
   "metadata": {},
   "outputs": [
    {
     "name": "stderr",
     "output_type": "stream",
     "text": [
      "[nltk_data] Downloading package movie_reviews to\n",
      "[nltk_data]     C:\\Users\\bsubramani\\AppData\\Roaming\\nltk_data...\n",
      "[nltk_data]   Unzipping corpora\\movie_reviews.zip.\n"
     ]
    },
    {
     "data": {
      "text/plain": [
       "True"
      ]
     },
     "execution_count": 11,
     "metadata": {},
     "output_type": "execute_result"
    }
   ],
   "source": [
    "# Download the reviews\n",
    "# import nltk\n",
    "# nltk.download('movie_reviews')"
   ]
  },
  {
   "cell_type": "code",
   "execution_count": 2,
   "metadata": {},
   "outputs": [],
   "source": [
    "df = pd.read_csv(\"..//data//Womens Clothing E-Commerce Reviews PreProcessed.csv\")"
   ]
  },
  {
   "cell_type": "code",
   "execution_count": 151,
   "metadata": {},
   "outputs": [
    {
     "data": {
      "text/html": [
       "<div>\n",
       "<style scoped>\n",
       "    .dataframe tbody tr th:only-of-type {\n",
       "        vertical-align: middle;\n",
       "    }\n",
       "\n",
       "    .dataframe tbody tr th {\n",
       "        vertical-align: top;\n",
       "    }\n",
       "\n",
       "    .dataframe thead th {\n",
       "        text-align: right;\n",
       "    }\n",
       "</style>\n",
       "<table border=\"1\" class=\"dataframe\">\n",
       "  <thead>\n",
       "    <tr style=\"text-align: right;\">\n",
       "      <th></th>\n",
       "      <th>Clothing ID</th>\n",
       "      <th>Age</th>\n",
       "      <th>Title</th>\n",
       "      <th>Review Text</th>\n",
       "      <th>Rating</th>\n",
       "      <th>Recommended IND</th>\n",
       "      <th>Positive Feedback Count</th>\n",
       "      <th>Division Name</th>\n",
       "      <th>Department Name</th>\n",
       "      <th>Class Name</th>\n",
       "      <th>processed_Review_text</th>\n",
       "      <th>PA_Polarity</th>\n",
       "      <th>NB_Positive</th>\n",
       "    </tr>\n",
       "  </thead>\n",
       "  <tbody>\n",
       "    <tr>\n",
       "      <th>0</th>\n",
       "      <td>767</td>\n",
       "      <td>33</td>\n",
       "      <td>NaN</td>\n",
       "      <td>Absolutely wonderful - silky and sexy and comf...</td>\n",
       "      <td>4</td>\n",
       "      <td>1</td>\n",
       "      <td>0</td>\n",
       "      <td>Initmates</td>\n",
       "      <td>Intimate</td>\n",
       "      <td>Intimates</td>\n",
       "      <td>absolutely wonderful silky sexy comfortable</td>\n",
       "      <td>0.633333</td>\n",
       "      <td>0.816026</td>\n",
       "    </tr>\n",
       "    <tr>\n",
       "      <th>1</th>\n",
       "      <td>1080</td>\n",
       "      <td>34</td>\n",
       "      <td>NaN</td>\n",
       "      <td>Love this dress!  it's sooo pretty.  i happene...</td>\n",
       "      <td>5</td>\n",
       "      <td>1</td>\n",
       "      <td>4</td>\n",
       "      <td>General</td>\n",
       "      <td>Dresses</td>\n",
       "      <td>Dresses</td>\n",
       "      <td>love dress sooo pretty happen find store glad ...</td>\n",
       "      <td>0.318750</td>\n",
       "      <td>0.868595</td>\n",
       "    </tr>\n",
       "    <tr>\n",
       "      <th>2</th>\n",
       "      <td>1077</td>\n",
       "      <td>60</td>\n",
       "      <td>Some major design flaws</td>\n",
       "      <td>I had such high hopes for this dress and reall...</td>\n",
       "      <td>3</td>\n",
       "      <td>0</td>\n",
       "      <td>0</td>\n",
       "      <td>General</td>\n",
       "      <td>Dresses</td>\n",
       "      <td>Dresses</td>\n",
       "      <td>high hope dress want work initially order peti...</td>\n",
       "      <td>0.028366</td>\n",
       "      <td>0.978218</td>\n",
       "    </tr>\n",
       "    <tr>\n",
       "      <th>3</th>\n",
       "      <td>1049</td>\n",
       "      <td>50</td>\n",
       "      <td>My favorite buy!</td>\n",
       "      <td>I love, love, love this jumpsuit. it's fun, fl...</td>\n",
       "      <td>5</td>\n",
       "      <td>1</td>\n",
       "      <td>0</td>\n",
       "      <td>General Petite</td>\n",
       "      <td>Bottoms</td>\n",
       "      <td>Pants</td>\n",
       "      <td>love love love jumpsuit fun flirty fabulous ti...</td>\n",
       "      <td>0.500000</td>\n",
       "      <td>0.612634</td>\n",
       "    </tr>\n",
       "    <tr>\n",
       "      <th>4</th>\n",
       "      <td>847</td>\n",
       "      <td>47</td>\n",
       "      <td>Flattering shirt</td>\n",
       "      <td>This shirt is very flattering to all due to th...</td>\n",
       "      <td>5</td>\n",
       "      <td>1</td>\n",
       "      <td>6</td>\n",
       "      <td>General</td>\n",
       "      <td>Tops</td>\n",
       "      <td>Blouses</td>\n",
       "      <td>shirt flattering adjustable tie perfect length...</td>\n",
       "      <td>0.750000</td>\n",
       "      <td>0.709671</td>\n",
       "    </tr>\n",
       "  </tbody>\n",
       "</table>\n",
       "</div>"
      ],
      "text/plain": [
       "   Clothing ID  Age                    Title                                        Review Text  Rating  Recommended IND  Positive Feedback Count   Division Name Department Name Class Name                              processed_Review_text  PA_Polarity  NB_Positive\n",
       "0          767   33                      NaN  Absolutely wonderful - silky and sexy and comf...       4                1                        0       Initmates        Intimate  Intimates        absolutely wonderful silky sexy comfortable     0.633333     0.816026\n",
       "1         1080   34                      NaN  Love this dress!  it's sooo pretty.  i happene...       5                1                        4         General         Dresses    Dresses  love dress sooo pretty happen find store glad ...     0.318750     0.868595\n",
       "2         1077   60  Some major design flaws  I had such high hopes for this dress and reall...       3                0                        0         General         Dresses    Dresses  high hope dress want work initially order peti...     0.028366     0.978218\n",
       "3         1049   50         My favorite buy!  I love, love, love this jumpsuit. it's fun, fl...       5                1                        0  General Petite         Bottoms      Pants  love love love jumpsuit fun flirty fabulous ti...     0.500000     0.612634\n",
       "4          847   47         Flattering shirt  This shirt is very flattering to all due to th...       5                1                        6         General            Tops    Blouses  shirt flattering adjustable tie perfect length...     0.750000     0.709671"
      ]
     },
     "execution_count": 151,
     "metadata": {},
     "output_type": "execute_result"
    }
   ],
   "source": [
    "pd.set_option('max_colwidth', 50)\n",
    "df.head()"
   ]
  },
  {
   "cell_type": "code",
   "execution_count": 4,
   "metadata": {},
   "outputs": [
    {
     "data": {
      "text/plain": [
       "['beautifully pant trend flared crop cuter person love',\n",
       " 'give pant second look online person cute stripe bright fit flattering crop cute flare right trend brand run small carry chubbiness belly pair collarless loose navy blazer',\n",
       " 'pant well person downside need dry clean',\n",
       " 'order month ago finally come order huge disappointment fit issue quality wool subpar mention felt wool guess literally feel like feel super thin itchy drape feel cheap china get sale worth pay definitely go',\n",
       " 'neat dress color great fabric super soft tall long length add bonus definitely need underneath gap go pair funky tank necklace boot super cute']"
      ]
     },
     "execution_count": 4,
     "metadata": {},
     "output_type": "execute_result"
    }
   ],
   "source": [
    "df['processed_Review_text'].head(35).tail(5).tolist()"
   ]
  },
  {
   "cell_type": "code",
   "execution_count": 29,
   "metadata": {},
   "outputs": [
    {
     "data": {
      "text/plain": [
       "['Beautifully made pants and on trend with the flared crop. so much cuter in person. love these!',\n",
       " \"I never would have given these pants a second look online, in person they are much cuter! the stripes are brighter and the fit more flattering. the crop has a cute flare which is right on trend. this brand has always run small for me, i am 5'8 about 140lbs and carry some chubbiness in the belly. i paired it with a collarless loose navy blazer\",\n",
       " 'These pants are even better in person. the only downside is that they need to be dry cleaned.',\n",
       " 'I ordered this 3 months ago, and it finally came off back order. a huge disappointment. the fit wasn\\'t so much the issue for me. the quality of the wool is subpar. someone else mentioned a \"felted wool\"...i guess, is that what you call it?  it does literally feel like felt! super thin, itchy, doesn\\'t drape very well, and feels cheap (made in china). i got it on sale, but still not worth what i paid. definitely going back.',\n",
       " 'This is such a neat dress. the color is great and the fabric is super soft. i am tall so the long length was an added bonus. it definitely needs something underneath since the front gaps. i am going to pair it with a funky tank top, necklaces and boots. super cute!!']"
      ]
     },
     "execution_count": 29,
     "metadata": {},
     "output_type": "execute_result"
    }
   ],
   "source": [
    "df['Review Text'].head(35).tail(5).tolist()"
   ]
  },
  {
   "cell_type": "code",
   "execution_count": 102,
   "metadata": {},
   "outputs": [],
   "source": [
    "patb = Blobber(analyzer=PatternAnalyzer())\n",
    "nbtb = Blobber(analyzer=NaiveBayesAnalyzer())\n",
    "\n",
    "def NaiveBayesAnalyzerResult(Text):\n",
    "    return nbtb(Text).sentiment.p_pos\n",
    "\n",
    "def PatternAnalyzerResult(Text):\n",
    "    # Returns a polarity range between [-1, 1]\n",
    "    return patb(Text).sentiment[0]"
   ]
  },
  {
   "cell_type": "code",
   "execution_count": 123,
   "metadata": {},
   "outputs": [
    {
     "name": "stderr",
     "output_type": "stream",
     "text": [
      "C:\\Users\\bsubramani\\AppData\\Local\\Continuum\\anaconda2\\envs\\snakes\\lib\\site-packages\\ipykernel_launcher.py:1: SettingWithCopyWarning: \n",
      "A value is trying to be set on a copy of a slice from a DataFrame\n",
      "\n",
      "See the caveats in the documentation: http://pandas.pydata.org/pandas-docs/stable/indexing.html#indexing-view-versus-copy\n",
      "  \"\"\"Entry point for launching an IPython kernel.\n",
      "C:\\Users\\bsubramani\\AppData\\Local\\Continuum\\anaconda2\\envs\\snakes\\lib\\site-packages\\ipykernel_launcher.py:2: SettingWithCopyWarning: \n",
      "A value is trying to be set on a copy of a slice from a DataFrame\n",
      "\n",
      "See the caveats in the documentation: http://pandas.pydata.org/pandas-docs/stable/indexing.html#indexing-view-versus-copy\n",
      "  \n"
     ]
    }
   ],
   "source": [
    "df['processed_Review_text'][df['processed_Review_text'].isna()]=\"\"\n",
    "df['processed_Review_text'][df['processed_Review_text'].isnull()]=\"\""
   ]
  },
  {
   "cell_type": "code",
   "execution_count": 157,
   "metadata": {},
   "outputs": [],
   "source": [
    "df[\"PA_Polarity\"]=df['processed_Review_text'].apply(PatternAnalyzerResult)"
   ]
  },
  {
   "cell_type": "code",
   "execution_count": 127,
   "metadata": {},
   "outputs": [],
   "source": [
    "df[\"NB_Positive\"]=df['processed_Review_text'].apply(NaiveBayesAnalyzerResult)"
   ]
  },
  {
   "cell_type": "code",
   "execution_count": 100,
   "metadata": {},
   "outputs": [],
   "source": [
    "Text='order month ago finally come order huge disappointment fit issue quality wool subpar mention felt wool guess literally feel like feel super thin itchy drape feel cheap china get sale worth pay definitely go'"
   ]
  },
  {
   "cell_type": "code",
   "execution_count": 163,
   "metadata": {},
   "outputs": [
    {
     "data": {
      "text/html": [
       "<div>\n",
       "<style scoped>\n",
       "    .dataframe tbody tr th:only-of-type {\n",
       "        vertical-align: middle;\n",
       "    }\n",
       "\n",
       "    .dataframe tbody tr th {\n",
       "        vertical-align: top;\n",
       "    }\n",
       "\n",
       "    .dataframe thead th {\n",
       "        text-align: right;\n",
       "    }\n",
       "</style>\n",
       "<table border=\"1\" class=\"dataframe\">\n",
       "  <thead>\n",
       "    <tr style=\"text-align: right;\">\n",
       "      <th></th>\n",
       "      <th>Rating</th>\n",
       "      <th>Review Text</th>\n",
       "      <th>processed_Review_text</th>\n",
       "      <th>PA_Polarity</th>\n",
       "      <th>NB_Positive</th>\n",
       "    </tr>\n",
       "  </thead>\n",
       "  <tbody>\n",
       "    <tr>\n",
       "      <th>2258</th>\n",
       "      <td>3</td>\n",
       "      <td>Hangs terribly off the chest. tent-like. looks maternity. no thanks.</td>\n",
       "      <td>hang terribly chest tent like look maternity thank</td>\n",
       "      <td>-1.00000</td>\n",
       "      <td>0.749006</td>\n",
       "    </tr>\n",
       "    <tr>\n",
       "      <th>5114</th>\n",
       "      <td>1</td>\n",
       "      <td>What a disappointment and for the price, it's outrageous!</td>\n",
       "      <td>disappointment price outrageous</td>\n",
       "      <td>-0.80000</td>\n",
       "      <td>0.437176</td>\n",
       "    </tr>\n",
       "    <tr>\n",
       "      <th>6296</th>\n",
       "      <td>2</td>\n",
       "      <td>Awful color, horribly wrinkled and just a mess...so disappointed</td>\n",
       "      <td>awful color horribly wrinkle mess disappointed</td>\n",
       "      <td>-0.73125</td>\n",
       "      <td>0.028541</td>\n",
       "    </tr>\n",
       "    <tr>\n",
       "      <th>6315</th>\n",
       "      <td>2</td>\n",
       "      <td>I found this piece very boxy and not very feminine. i tried to make it work but i just wasn't feeling it the material is thin and the design is boring. unfort, it wasn't for me.</td>\n",
       "      <td>find piece boxy feminine try work feel material thin design boring unfort</td>\n",
       "      <td>-0.70000</td>\n",
       "      <td>0.266129</td>\n",
       "    </tr>\n",
       "    <tr>\n",
       "      <th>9262</th>\n",
       "      <td>1</td>\n",
       "      <td>I read all the reviews about the fabric being see through, but liked the dress enough to give it a shot. it is soooo see through. this trally could only be worn on a beach. very disappointed.</td>\n",
       "      <td>read review fabric like dress shot soooo trally wear beach disappointed</td>\n",
       "      <td>-0.75000</td>\n",
       "      <td>0.962904</td>\n",
       "    </tr>\n",
       "  </tbody>\n",
       "</table>\n",
       "</div>"
      ],
      "text/plain": [
       "      Rating                                                                                                                                                                                      Review Text                                                      processed_Review_text  PA_Polarity  NB_Positive\n",
       "2258       3                                                                                                                             Hangs terribly off the chest. tent-like. looks maternity. no thanks.                         hang terribly chest tent like look maternity thank     -1.00000     0.749006\n",
       "5114       1                                                                                                                                        What a disappointment and for the price, it's outrageous!                                            disappointment price outrageous     -0.80000     0.437176\n",
       "6296       2                                                                                                                                 Awful color, horribly wrinkled and just a mess...so disappointed                             awful color horribly wrinkle mess disappointed     -0.73125     0.028541\n",
       "6315       2                I found this piece very boxy and not very feminine. i tried to make it work but i just wasn't feeling it the material is thin and the design is boring. unfort, it wasn't for me.  find piece boxy feminine try work feel material thin design boring unfort     -0.70000     0.266129\n",
       "9262       1  I read all the reviews about the fabric being see through, but liked the dress enough to give it a shot. it is soooo see through. this trally could only be worn on a beach. very disappointed.    read review fabric like dress shot soooo trally wear beach disappointed     -0.75000     0.962904"
      ]
     },
     "execution_count": 163,
     "metadata": {},
     "output_type": "execute_result"
    }
   ],
   "source": [
    "pd.set_option('max_colwidth', 1000)\n",
    "df[[\"Rating\",\"Review Text\",'processed_Review_text',\"PA_Polarity\", \"NB_Positive\"]][df[\"PA_Polarity\"]<-0.5].head(5)\n",
    "# pd.set_option('max_colwidth', 50)"
   ]
  },
  {
   "cell_type": "code",
   "execution_count": 165,
   "metadata": {},
   "outputs": [
    {
     "name": "stderr",
     "output_type": "stream",
     "text": [
      "C:\\Users\\bsubramani\\AppData\\Local\\Continuum\\anaconda2\\envs\\snakes\\lib\\site-packages\\ipykernel_launcher.py:2: SettingWithCopyWarning: \n",
      "A value is trying to be set on a copy of a slice from a DataFrame\n",
      "\n",
      "See the caveats in the documentation: http://pandas.pydata.org/pandas-docs/stable/indexing.html#indexing-view-versus-copy\n",
      "  \n",
      "C:\\Users\\bsubramani\\AppData\\Local\\Continuum\\anaconda2\\envs\\snakes\\lib\\site-packages\\ipykernel_launcher.py:6: SettingWithCopyWarning: \n",
      "A value is trying to be set on a copy of a slice from a DataFrame\n",
      "\n",
      "See the caveats in the documentation: http://pandas.pydata.org/pandas-docs/stable/indexing.html#indexing-view-versus-copy\n",
      "  \n"
     ]
    }
   ],
   "source": [
    "df[\"NB_Result\"]=\"pos\"\n",
    "df[\"NB_Result\"][df[ \"NB_Positive\"]<=.5]=\"neg\"\n",
    "\n",
    "\n",
    "df[\"PA_Result\"]=\"pos\"\n",
    "df[\"PA_Result\"][df[ \"PA_Polarity\"]<=0]=\"neg\""
   ]
  },
  {
   "cell_type": "code",
   "execution_count": 173,
   "metadata": {},
   "outputs": [
    {
     "data": {
      "text/plain": [
       "80.94183769053905"
      ]
     },
     "execution_count": 173,
     "metadata": {},
     "output_type": "execute_result"
    }
   ],
   "source": [
    "accuracy_score(df[\"NB_Result\"], df[\"PA_Result\"])*100"
   ]
  },
  {
   "cell_type": "code",
   "execution_count": 177,
   "metadata": {},
   "outputs": [
    {
     "data": {
      "text/html": [
       "<div>\n",
       "<style scoped>\n",
       "    .dataframe tbody tr th:only-of-type {\n",
       "        vertical-align: middle;\n",
       "    }\n",
       "\n",
       "    .dataframe tbody tr th {\n",
       "        vertical-align: top;\n",
       "    }\n",
       "\n",
       "    .dataframe thead th {\n",
       "        text-align: right;\n",
       "    }\n",
       "</style>\n",
       "<table border=\"1\" class=\"dataframe\">\n",
       "  <thead>\n",
       "    <tr style=\"text-align: right;\">\n",
       "      <th></th>\n",
       "      <th>Positive Feedback Count</th>\n",
       "      <th>PA_Polarity</th>\n",
       "    </tr>\n",
       "  </thead>\n",
       "  <tbody>\n",
       "    <tr>\n",
       "      <th>Positive Feedback Count</th>\n",
       "      <td>1.000000</td>\n",
       "      <td>-0.061629</td>\n",
       "    </tr>\n",
       "    <tr>\n",
       "      <th>PA_Polarity</th>\n",
       "      <td>-0.061629</td>\n",
       "      <td>1.000000</td>\n",
       "    </tr>\n",
       "  </tbody>\n",
       "</table>\n",
       "</div>"
      ],
      "text/plain": [
       "                         Positive Feedback Count  PA_Polarity\n",
       "Positive Feedback Count                 1.000000    -0.061629\n",
       "PA_Polarity                            -0.061629     1.000000"
      ]
     },
     "execution_count": 177,
     "metadata": {},
     "output_type": "execute_result"
    }
   ],
   "source": [
    "df[[\"Positive Feedback Count\",\"PA_Polarity\"]].corr()"
   ]
  },
  {
   "cell_type": "code",
   "execution_count": 180,
   "metadata": {},
   "outputs": [
    {
     "data": {
      "text/html": [
       "<div>\n",
       "<style scoped>\n",
       "    .dataframe tbody tr th:only-of-type {\n",
       "        vertical-align: middle;\n",
       "    }\n",
       "\n",
       "    .dataframe tbody tr th {\n",
       "        vertical-align: top;\n",
       "    }\n",
       "\n",
       "    .dataframe thead th {\n",
       "        text-align: right;\n",
       "    }\n",
       "</style>\n",
       "<table border=\"1\" class=\"dataframe\">\n",
       "  <thead>\n",
       "    <tr style=\"text-align: right;\">\n",
       "      <th></th>\n",
       "      <th>Positive Feedback Count</th>\n",
       "      <th>NB_Positive</th>\n",
       "    </tr>\n",
       "  </thead>\n",
       "  <tbody>\n",
       "    <tr>\n",
       "      <th>Positive Feedback Count</th>\n",
       "      <td>1.000000</td>\n",
       "      <td>0.049112</td>\n",
       "    </tr>\n",
       "    <tr>\n",
       "      <th>NB_Positive</th>\n",
       "      <td>0.049112</td>\n",
       "      <td>1.000000</td>\n",
       "    </tr>\n",
       "  </tbody>\n",
       "</table>\n",
       "</div>"
      ],
      "text/plain": [
       "                         Positive Feedback Count  NB_Positive\n",
       "Positive Feedback Count                 1.000000     0.049112\n",
       "NB_Positive                             0.049112     1.000000"
      ]
     },
     "execution_count": 180,
     "metadata": {},
     "output_type": "execute_result"
    }
   ],
   "source": [
    "df[[\"Positive Feedback Count\",\"NB_Positive\"]].corr()"
   ]
  },
  {
   "cell_type": "code",
   "execution_count": 186,
   "metadata": {},
   "outputs": [
    {
     "name": "stderr",
     "output_type": "stream",
     "text": [
      "C:\\Users\\bsubramani\\AppData\\Local\\Continuum\\anaconda2\\envs\\snakes\\lib\\site-packages\\sklearn\\preprocessing\\data.py:645: DataConversionWarning: Data with input dtype int64 were all converted to float64 by StandardScaler.\n",
      "  return self.partial_fit(X, y)\n",
      "C:\\Users\\bsubramani\\AppData\\Local\\Continuum\\anaconda2\\envs\\snakes\\lib\\site-packages\\sklearn\\base.py:464: DataConversionWarning: Data with input dtype int64 were all converted to float64 by StandardScaler.\n",
      "  return self.fit(X, **fit_params).transform(X)\n"
     ]
    }
   ],
   "source": [
    "scaler = StandardScaler()\n",
    "df[\"Standard Positive Feedback Count\"]=scaler.fit_transform(df[[\"Positive Feedback Count\"]])"
   ]
  },
  {
   "cell_type": "code",
   "execution_count": 188,
   "metadata": {},
   "outputs": [
    {
     "data": {
      "text/html": [
       "<div>\n",
       "<style scoped>\n",
       "    .dataframe tbody tr th:only-of-type {\n",
       "        vertical-align: middle;\n",
       "    }\n",
       "\n",
       "    .dataframe tbody tr th {\n",
       "        vertical-align: top;\n",
       "    }\n",
       "\n",
       "    .dataframe thead th {\n",
       "        text-align: right;\n",
       "    }\n",
       "</style>\n",
       "<table border=\"1\" class=\"dataframe\">\n",
       "  <thead>\n",
       "    <tr style=\"text-align: right;\">\n",
       "      <th></th>\n",
       "      <th>Standard Positive Feedback Count</th>\n",
       "      <th>PA_Polarity</th>\n",
       "    </tr>\n",
       "  </thead>\n",
       "  <tbody>\n",
       "    <tr>\n",
       "      <th>Standard Positive Feedback Count</th>\n",
       "      <td>1.000000</td>\n",
       "      <td>-0.061629</td>\n",
       "    </tr>\n",
       "    <tr>\n",
       "      <th>PA_Polarity</th>\n",
       "      <td>-0.061629</td>\n",
       "      <td>1.000000</td>\n",
       "    </tr>\n",
       "  </tbody>\n",
       "</table>\n",
       "</div>"
      ],
      "text/plain": [
       "                                  Standard Positive Feedback Count  PA_Polarity\n",
       "Standard Positive Feedback Count                          1.000000    -0.061629\n",
       "PA_Polarity                                              -0.061629     1.000000"
      ]
     },
     "execution_count": 188,
     "metadata": {},
     "output_type": "execute_result"
    }
   ],
   "source": [
    "df[[\"Standard Positive Feedback Count\",\"PA_Polarity\"]].corr()"
   ]
  },
  {
   "cell_type": "code",
   "execution_count": 187,
   "metadata": {},
   "outputs": [
    {
     "data": {
      "text/html": [
       "<div>\n",
       "<style scoped>\n",
       "    .dataframe tbody tr th:only-of-type {\n",
       "        vertical-align: middle;\n",
       "    }\n",
       "\n",
       "    .dataframe tbody tr th {\n",
       "        vertical-align: top;\n",
       "    }\n",
       "\n",
       "    .dataframe thead th {\n",
       "        text-align: right;\n",
       "    }\n",
       "</style>\n",
       "<table border=\"1\" class=\"dataframe\">\n",
       "  <thead>\n",
       "    <tr style=\"text-align: right;\">\n",
       "      <th></th>\n",
       "      <th>Standard Positive Feedback Count</th>\n",
       "      <th>NB_Positive</th>\n",
       "    </tr>\n",
       "  </thead>\n",
       "  <tbody>\n",
       "    <tr>\n",
       "      <th>Standard Positive Feedback Count</th>\n",
       "      <td>1.000000</td>\n",
       "      <td>0.049112</td>\n",
       "    </tr>\n",
       "    <tr>\n",
       "      <th>NB_Positive</th>\n",
       "      <td>0.049112</td>\n",
       "      <td>1.000000</td>\n",
       "    </tr>\n",
       "  </tbody>\n",
       "</table>\n",
       "</div>"
      ],
      "text/plain": [
       "                                  Standard Positive Feedback Count  NB_Positive\n",
       "Standard Positive Feedback Count                          1.000000     0.049112\n",
       "NB_Positive                                               0.049112     1.000000"
      ]
     },
     "execution_count": 187,
     "metadata": {},
     "output_type": "execute_result"
    }
   ],
   "source": [
    "df[[\"Standard Positive Feedback Count\",\"NB_Positive\"]].corr()"
   ]
  }
 ],
 "metadata": {
  "celltoolbar": "Raw Cell Format",
  "kernelspec": {
   "display_name": "Python 3",
   "language": "python",
   "name": "python3"
  },
  "language_info": {
   "codemirror_mode": {
    "name": "ipython",
    "version": 3
   },
   "file_extension": ".py",
   "mimetype": "text/x-python",
   "name": "python",
   "nbconvert_exporter": "python",
   "pygments_lexer": "ipython3",
   "version": "3.7.3"
  }
 },
 "nbformat": 4,
 "nbformat_minor": 2
}
